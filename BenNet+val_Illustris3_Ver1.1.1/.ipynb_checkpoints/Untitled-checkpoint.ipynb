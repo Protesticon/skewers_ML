{
 "cells": [
  {
   "cell_type": "code",
   "execution_count": 1,
   "metadata": {},
   "outputs": [],
   "source": [
    "from pathlib import Path\n",
    "import os\n",
    "import time\n",
    "import numpy as np\n",
    "import torch\n",
    "import matplotlib.pyplot as plt\n",
    "\n",
    "import warnings\n",
    "warnings.filterwarnings('ignore')\n",
    "\n",
    "from data_loader import *\n",
    "from test import *\n",
    "\n",
    "\n",
    "\n",
    "# pre-process\n",
    "def pre_proc(tau, block):\n",
    "    '''1-exp(-tau)'''\n",
    "    tau   = np.array(tau)\n",
    "    block = np.array(block)\n",
    "    return (1-np.exp(-1*tau), block)\n",
    "\n",
    "def toF_proc(tau):\n",
    "    tau   = np.array(tau)\n",
    "    return (1-tau)\n",
    "\n",
    "\n",
    "\n",
    "# Path and data file name\n",
    "folder  = Path.cwd().parent / 'Illustris3'\n",
    "DM_name = ['DMdelta_Illustris3_L75_N600_v2.fits', \n",
    "            'vx_cic_Illustris3_L75_N600.fits',\n",
    "            'vy_cic_Illustris3_L75_N600.fits',\n",
    "            'vz_cic_Illustris3_L75_N600.fits']\n",
    "ske_name = 'spectra_Illustris3_N600.npy'\n",
    "\n",
    "\n",
    "\n",
    "# hyper parameters\n",
    "train_size = np.array([9, 9, 67]) # x, y, z respctively\n",
    "test_batch = 50\n",
    "localtime_n = ['2019-11-03 03:45:29', '2019-11-04 14:30:32']"
   ]
  },
  {
   "cell_type": "code",
   "execution_count": 2,
   "metadata": {},
   "outputs": [
    {
     "name": "stdout",
     "output_type": "stream",
     "text": [
      "Using device: cuda:1\n",
      "Loading dark matter...\n",
      "Loading skewers...\n"
     ]
    }
   ],
   "source": [
    "#for localtime_i in localtime_n:\n",
    "localtime_i = '2019-11-03 03:45:29'\n",
    "localtime = time.strptime(localtime_i, '%Y-%m-%d %H:%M:%S')\n",
    "if ~(train_size%2).all():\n",
    "    raise ValueError('train size scannot be even.')\n",
    "\n",
    "\n",
    "\n",
    "# device used to train the model\n",
    "device = torch.device(\"cuda:1\" if torch.cuda.is_available() else \"cpu\")\n",
    "print('Using device:', device)\n",
    "\n",
    "\n",
    "\n",
    "# load dark matter data\n",
    "print('Loading dark matter...')\n",
    "DM_general = load_DM(folder, DM_name)\n",
    "# basic paramters\n",
    "DM_param.pix  = len(DM_general[0])\n",
    "DM_param.len  = 75*1000 # in kpc/h\n",
    "DM_param.reso = DM_param.len / DM_param.pix # in kpc/h\n",
    "# test\n",
    "if DM_general.shape[1]<train_size.min():\n",
    "    raise ValueError('DarkMatter cube size',\n",
    "        DM_general.shape, 'is too small for train size', train_size, '.')\n",
    "DM_general = torch.tensor(DM_general).float()\n",
    "\n",
    "\n",
    "# load skewers\n",
    "print('Loading skewers...')\n",
    "ske, block = load_skewers(folder, ske_name, DM_param)\n",
    "# basic parameters\n",
    "ske_len = ske.shape[1]"
   ]
  },
  {
   "cell_type": "code",
   "execution_count": 3,
   "metadata": {
    "scrolled": true
   },
   "outputs": [
    {
     "name": "stdout",
     "output_type": "stream",
     "text": [
      "Setting test set...\n",
      "Begin testing...\n",
      "Step [100/4800] Loss: 0.0026, Time: 5.5037\n",
      "Step [200/4800] Loss: 0.0161, Time: 11.0532\n",
      "Step [300/4800] Loss: 0.0095, Time: 16.5880\n",
      "Step [400/4800] Loss: 0.0051, Time: 22.2648\n",
      "Step [500/4800] Loss: 0.0016, Time: 27.8083\n",
      "Step [600/4800] Loss: 0.0041, Time: 33.2595\n",
      "Step [700/4800] Loss: 0.0017, Time: 38.6858\n",
      "Step [800/4800] Loss: 0.0013, Time: 44.1464\n",
      "Step [900/4800] Loss: 0.0002, Time: 49.5539\n",
      "Step [1000/4800] Loss: 0.0260, Time: 54.9229\n",
      "Step [1100/4800] Loss: 0.0055, Time: 60.2734\n",
      "Step [1200/4800] Loss: 0.0002, Time: 65.5814\n",
      "Step [1300/4800] Loss: 0.0045, Time: 70.9415\n",
      "Step [1400/4800] Loss: 0.0079, Time: 76.2481\n",
      "Step [1500/4800] Loss: 0.0396, Time: 81.7243\n",
      "Step [1600/4800] Loss: 0.0004, Time: 87.2426\n",
      "Step [1700/4800] Loss: 0.0015, Time: 92.5731\n",
      "Step [1800/4800] Loss: 0.0002, Time: 98.0066\n",
      "Step [1900/4800] Loss: 0.0032, Time: 103.3919\n",
      "Step [2000/4800] Loss: 0.0013, Time: 108.7641\n",
      "Step [2100/4800] Loss: 0.0045, Time: 114.1482\n",
      "Step [2200/4800] Loss: 0.0099, Time: 119.4598\n",
      "Step [2300/4800] Loss: 0.0005, Time: 124.8172\n",
      "Step [2400/4800] Loss: 0.0023, Time: 130.1405\n",
      "Step [2500/4800] Loss: 0.0004, Time: 135.4329\n",
      "Step [2600/4800] Loss: 0.0052, Time: 140.7813\n",
      "Step [2700/4800] Loss: 0.0002, Time: 146.0595\n",
      "Step [2800/4800] Loss: 0.0066, Time: 151.3389\n",
      "Step [2900/4800] Loss: 0.0013, Time: 156.5963\n",
      "Step [3000/4800] Loss: 0.0010, Time: 161.9260\n",
      "Step [3100/4800] Loss: 0.0216, Time: 167.1810\n",
      "Step [3200/4800] Loss: 0.0118, Time: 172.4057\n",
      "Step [3300/4800] Loss: 0.0219, Time: 177.6497\n",
      "Step [3400/4800] Loss: 0.0008, Time: 182.9381\n",
      "Step [3500/4800] Loss: 0.0355, Time: 188.3206\n",
      "Step [3600/4800] Loss: 0.0016, Time: 193.5366\n",
      "Step [3700/4800] Loss: 0.0020, Time: 198.8225\n",
      "Step [3800/4800] Loss: 0.0048, Time: 204.2266\n",
      "Step [3900/4800] Loss: 0.0098, Time: 209.4204\n",
      "Step [4000/4800] Loss: 0.0383, Time: 214.6447\n",
      "Step [4100/4800] Loss: 0.0144, Time: 219.8156\n",
      "Step [4200/4800] Loss: 0.0004, Time: 225.0190\n",
      "Step [4300/4800] Loss: 0.0130, Time: 230.2234\n",
      "Step [4400/4800] Loss: 0.0093, Time: 235.6367\n",
      "Step [4500/4800] Loss: 0.0131, Time: 241.0168\n",
      "Step [4600/4800] Loss: 0.0033, Time: 246.3435\n",
      "Step [4700/4800] Loss: 0.0068, Time: 251.6604\n",
      "Step [4800/4800] Loss: 0.0006, Time: 256.9895\n",
      "Test Summary: \n",
      "\tTest loss: 0.006662129744437758\n"
     ]
    }
   ],
   "source": [
    "# divide the sample to training, validation set, and test set.\n",
    "print('Setting test set...')\n",
    "with open(\"id_seperate/id_seperate_%s.txt\"\\\n",
    "          %time.strftime(\"%Y-%m-%d_%H:%M:%S\", localtime), \"r\") as f:\n",
    "    aa = f.readlines()\n",
    "    id_seperate = np.array(list(aa[0][::3])).astype('int')\n",
    "    del aa\n",
    "f.close()\n",
    "\n",
    "test_ske, test_block = load_test(ske, block, id_seperate, test_batch)\n",
    "test_ske, test_block = pre_proc(test_ske, test_block)\n",
    "test_ske = torch.FloatTensor(test_ske)\n",
    "del id_seperate\n",
    "\n",
    "\n",
    "# load model\n",
    "model = get_residual_network().float().to(device)\n",
    "model.load_state_dict(torch.load('params/params_%s.pkl'\\\n",
    "        %time.strftime(\"%Y-%m-%d_%H:%M:%S\", localtime)))\n",
    "# model.load_state_dict(torch.load('params/HyPhy_%s.pkl'\\\n",
    "#       %time.strftime(\"%Y-%m-%d_%H:%M:%S\", localtime)))\n",
    "\n",
    "\n",
    "\n",
    "# loss\n",
    "criterion = nn.SmoothL1Loss()\n",
    "\n",
    "\n",
    "# record starr time\n",
    "start_time = time.time()\n",
    "\n",
    "\n",
    "# start test\n",
    "print('Begin testing...')\n",
    "test_outp, test_losses = test(test_ske, test_block, DM_general, DM_param,\n",
    "                        test_batch, train_size, model, criterion, device, start_time)\n",
    "\n",
    "print(\"Test Summary: \")\n",
    "print(\"\\tTest loss: {}\".format(test_losses))\n",
    "\n",
    "# restore test skewers\n",
    "test_ske   = test_ske.numpy().reshape(-1, ske_len)\n",
    "test_ske   = pre_proc_r(test_ske)\n",
    "test_outp  = pre_proc_r(test_outp)\n",
    "test_block = test_block.reshape(-1, DM_param.pix, 3)"
   ]
  },
  {
   "cell_type": "code",
   "execution_count": 6,
   "metadata": {},
   "outputs": [
    {
     "name": "stdout",
     "output_type": "stream",
     "text": [
      "Plotting example skewers...\n"
     ]
    }
   ],
   "source": [
    "print('Plotting example skewers...')\n",
    "# generate comparison images\n",
    "folder_outp = Path.cwd()/'test_figs'/('%s'\\\n",
    "        %time.strftime(\"%Y-%m-%d_%H:%M:%S\", localtime))\n",
    "if not os.path.exists(folder_outp):\n",
    "    os.makedirs(folder_outp)\n",
    "\n",
    "from scipy import constants as C\n",
    "v_end  = 0.02514741843009228 * C.speed_of_light / 1e3\n",
    "vaxis  = np.arange(0, v_end, v_end/600)\n",
    "\n",
    "nrange = min(len(test_ske), 50)\n",
    "test_sp = np.arange(len(test_ske))\n",
    "np.random.seed(99)\n",
    "np.random.shuffle(test_sp)\n",
    "test_sp1 = test_sp[:int(nrange)].astype('int')\n",
    "test_sp2 = test_sp[int(nrange):].astype('int')\n",
    "\n",
    "accuracy = AverageMeter()\n",
    "rela_err = AverageMeter()"
   ]
  },
  {
   "cell_type": "code",
   "execution_count": 10,
   "metadata": {},
   "outputs": [],
   "source": [
    "i = 0\n",
    "ii = test_sp1[i]"
   ]
  },
  {
   "cell_type": "code",
   "execution_count": 11,
   "metadata": {},
   "outputs": [],
   "source": [
    "test_block_i = test_block[ii, 0]\n",
    "test_outp_i = test_outp[ii]\n",
    "test_ske_i = test_ske[ii]\n",
    "test_DM_i = DM_general[0, test_block[ii,0,0], test_block[ii,0,1], :].numpy()"
   ]
  },
  {
   "cell_type": "code",
   "execution_count": 18,
   "metadata": {},
   "outputs": [
    {
     "data": {
      "text/plain": [
       "[<matplotlib.lines.Line2D at 0x7f7e08a91f60>]"
      ]
     },
     "execution_count": 18,
     "metadata": {},
     "output_type": "execute_result"
    },
    {
     "data": {
      "image/png": "[encoded data removed]",
      "text/plain": [
       "<Figure size 432x288 with 1 Axes>"
      ]
     },
     "metadata": {
      "needs_background": "light"
     },
     "output_type": "display_data"
    }
   ],
   "source": [
    "plt.plot(test_outp_i)"
   ]
  },
  {
   "cell_type": "code",
   "execution_count": null,
   "metadata": {},
   "outputs": [],
   "source": [
    "\n",
    "#loop\n",
    "for i, ii in enumerate(test_sp1):\n",
    "    print('Plotting {}/{}, x{}y{}.png...'\\\n",
    "          .format((i+1), nrange, test_block[ii,0,0], test_block[ii,0,1]))\n",
    "\n",
    "    test_block_i = test_block[ii, 0]\n",
    "    test_outp_i = test_outp[ii]\n",
    "    test_ske_i = test_ske[ii]\n",
    "    test_DM_i = DM_general[0, test_block[ii,0,0], test_block[ii,0,1], :].numpy()\n",
    "\n",
    "    accuracy_i, rela_err_i = test_plot(test_block_i, test_outp_i, test_ske_i, test_DM_i,\n",
    "             vaxis, folder_outp)\n",
    "\n",
    "    accuracy.update(accuracy_i, 1)\n",
    "    rela_err.update(rela_err_i, 1)\n",
    "\n",
    "print('Measuring accuracy of left skewers...')\n",
    "for i, ii in enumerate(test_sp2):\n",
    "\n",
    "    test_block_i = test_block[ii, 0]\n",
    "    test_outp_i = test_outp[ii]\n",
    "    test_ske_i = test_ske[ii]\n",
    "    test_DM_i = DM_general[0, test_block[ii,0,0], test_block[ii,0,1], :].numpy()\n",
    "\n",
    "    accuracy_i, rela_err_i = test_accuracy(test_block_i, test_outp_i,\n",
    "                                           test_ske_i, vaxis, folder_outp)\n",
    "    accuracy.update(accuracy_i, 1)\n",
    "    rela_err.update(rela_err_i, 1)\n",
    "\n",
    "\n",
    "\n",
    "# record this test\n",
    "with open('history.txt', 'a') as f:\n",
    "    f.writelines('\\n\\n\\nTest History Record:')\n",
    "    f.writelines('\\n\\tTest of the training at %s'\\\n",
    "            %time.strftime(\"%Y-%m-%d %H:%M:%S\", localtime))\n",
    "    f.writelines('\\n\\tTest loss: %s,  '%str(test_losses)\\\n",
    "        +time.strftime(\"%Y-%m-%d, %H:%M:%S\", time.localtime()))\n",
    "    f.writelines('\\n\\tAverage accuracy: %s,  '%str(accuracy.avg)\\\n",
    "        +time.strftime(\"%Y-%m-%d, %H:%M:%S\", time.localtime()))\n",
    "    f.writelines('\\n\\tAverage relative error: %s,  '%str(rela_err.avg)\\\n",
    "        +time.strftime(\"%Y-%m-%d, %H:%M:%S\", time.localtime()))\n",
    "f.close()\n",
    "\n",
    "print('Finished test!')"
   ]
  }
 ],
 "metadata": {
  "kernelspec": {
   "display_name": "Python 3",
   "language": "python",
   "name": "python3"
  },
  "language_info": {
   "codemirror_mode": {
    "name": "ipython",
    "version": 3
   },
   "file_extension": ".py",
   "mimetype": "text/x-python",
   "name": "python",
   "nbconvert_exporter": "python",
   "pygments_lexer": "ipython3",
   "version": "3.7.3"
  }
 },
 "nbformat": 4,
 "nbformat_minor": 2
}
