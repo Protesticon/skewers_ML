{
 "cells": [
  {
   "cell_type": "code",
   "execution_count": 1,
   "metadata": {},
   "outputs": [],
   "source": [
    "import numpy as np\n",
    "import matplotlib.pyplot as plt\n",
    "from astropy.io import fits\n",
    "from scipy import interpolate"
   ]
  },
  {
   "cell_type": "code",
   "execution_count": 2,
   "metadata": {},
   "outputs": [],
   "source": [
    "def make_batch_grids(x, y, z, batch_size, train_size, DM_size):\n",
    "    # x,y,z range are coordinates ranges of each training cube\n",
    "    x_range = ((x.reshape(batch_size,-1)+(np.arange(train_size[0])-(train_size[0]-1)/2)+DM_size)%DM_size).astype('int')\n",
    "    y_range = ((y.reshape(batch_size,-1)+(np.arange(train_size[1])-(train_size[1]-1)/2)+DM_size)%DM_size).astype('int')\n",
    "    z_range = ((z.reshape(batch_size,-1)+(np.arange(train_size[2])-(train_size[2]-1)/2)+DM_size)%DM_size).astype('int')\n",
    "    \n",
    "    # cx,cy,cz are coordinates of every points of each training cube, together forming a meshgrid\n",
    "    ci = np.array([0,1,2,3]).repeat(train_size.prod()*batch_size).reshape(4,batch_size,train_size[0],train_size[1],train_size[2]).transpose(1,0,2,3,4)\n",
    "    cx = x_range.repeat(train_size[[1,2]].prod()).reshape(batch_size,1,train_size[1],train_size[0],train_size[2]).transpose(0,1,2,3,4).repeat(4, axis=1)\n",
    "    cy = y_range.repeat(train_size[[2,0]].prod()).reshape(batch_size,1,train_size[0],train_size[2],train_size[1]).transpose(0,1,4,2,3).repeat(4, axis=1)\n",
    "    cz = z_range.repeat(train_size[[0,1]].prod()).reshape(batch_size,1,train_size[2],train_size[0],train_size[1]).transpose(0,1,3,4,2).repeat(4, axis=1)\n",
    "    \n",
    "    return tuple([ci,cx, cy, cz])"
   ]
  },
  {
   "cell_type": "code",
   "execution_count": 3,
   "metadata": {},
   "outputs": [],
   "source": [
    "# read in DM cube\n",
    "DM_fits = fits.open('Illustris3/DMdelta_Illustris3_L75_N600.fits')\n",
    "DM = DM_fits[0].data + 1\n",
    "DM_fits.close(); del DM_fits\n",
    "DM_len  = 75*1000 # in kpc/h\n",
    "DM_reso = DM_len / 600 # in kpc/h\n",
    "\n",
    "DM_vx_fits = fits.open('Illustris3/vx_cic_Illustris3_L75_N600.fits')\n",
    "DM_vx = DM_vx_fits[0].data\n",
    "DM_vx = DM_vx/np.absolute(DM_vx[1]).mean()\n",
    "DM_vx_fits.close(); del DM_vx_fits\n",
    "\n",
    "DM_vy_fits = fits.open('Illustris3/vy_cic_Illustris3_L75_N600.fits')\n",
    "DM_vy = DM_vy_fits[0].data\n",
    "DM_vy = DM_vy/np.absolute(DM_vy[1]).mean()\n",
    "DM_vy_fits.close(); del DM_vy_fits\n",
    "\n",
    "DM_vz_fits = fits.open('Illustris3/vz_cic_Illustris3_L75_N600.fits')\n",
    "DM_vz = DM_vz_fits[0].data\n",
    "DM_vz = DM_vz/np.absolute(DM_vz[1]).mean()\n",
    "DM_vz_fits.close(); del DM_vz_fits\n",
    "\n",
    "DM_general = np.array([DM, DM_vx, DM_vy, DM_vz])\n",
    "del DM, DM_vx, DM_vy, DM_vz"
   ]
  },
  {
   "cell_type": "code",
   "execution_count": 4,
   "metadata": {},
   "outputs": [],
   "source": [
    "# read in skewers\n",
    "ske = np.loadtxt('Illustris3/spectra_Illustris3_N600.dat')"
   ]
  },
  {
   "cell_type": "code",
   "execution_count": 5,
   "metadata": {},
   "outputs": [],
   "source": [
    "ax = np.arange(0.125/2.,75.,0.125)*1.e3\n",
    "block = np.array(np.meshgrid(ax,ax,np.array([0.]))).T.reshape(-1,3)\n",
    "del ax"
   ]
  },
  {
   "cell_type": "code",
   "execution_count": 6,
   "metadata": {},
   "outputs": [
    {
     "name": "stdout",
     "output_type": "stream",
     "text": [
      "There are 360000 skewers on DM pixels.\n"
     ]
    }
   ],
   "source": [
    "# only use the skewers that lie on DM pixels\n",
    "boolean = ((block[:,0]+DM_reso/2)%DM_reso + (block[:,1]+DM_reso/2)%DM_reso) == 0\n",
    "ske   = 1-np.exp(-ske[boolean])\n",
    "block = block[boolean]\n",
    "del boolean\n",
    "print('There are %d skewers on DM pixels.'%ske.shape[0])"
   ]
  },
  {
   "cell_type": "raw",
   "metadata": {},
   "source": [
    "ske_itp = np.zeros( shape=(ske.shape[0], DM_general.shape[1]) )\n",
    "xx = np.arange(ske.shape[1])*DM_len/ske.shape[1]\n",
    "for i, ske_p in enumerate( ske ):\n",
    "    f = interpolate.interp1d( x=xx, y=ske_p )\n",
    "    ske_itp[i] = f(np.arange(0.,DM_len,DM_reso))\n",
    "del xx"
   ]
  },
  {
   "cell_type": "raw",
   "metadata": {},
   "source": [
    "ii = np.random.randint(low=0, high=19, size=1)[0].astype('int')\n",
    "plt.figure(figsize=(12,6))\n",
    "plt.plot( np.arange(len(ske1[0]))/len(ske1[0]), ske1[ii] )\n",
    "plt.plot( np.arange(len(ske1_itp[0]))/len(ske1_itp[0]), ske1_itp[ii] )\n",
    "plt.ylabel(r'$\\tau$', fontsize=18)\n",
    "#plt.ylim([0,50])\n",
    "plt.yscale('log')\n",
    "#plt.legend(fontsize=18)"
   ]
  },
  {
   "cell_type": "code",
   "execution_count": 8,
   "metadata": {},
   "outputs": [],
   "source": [
    "# set length of training set and test set\n",
    "train_len  = 180000\n",
    "xtrain_len = ske.shape[0] - train_len\n",
    "\n",
    "# randomly selet the training set and test set\n",
    "boolean_seperate = np.append( np.ones( train_len, dtype='bool' ), np.zeros( xtrain_len, dtype='bool' ) ) \n",
    "np.random.shuffle( boolean_seperate )\n",
    "train_block = block[boolean_seperate]\n",
    "train_ske   = ske[boolean_seperate]\n",
    "\n",
    "# shuffle the training set\n",
    "np.random.seed(50)\n",
    "state = np.random.get_state()\n",
    "np.random.shuffle( train_block )\n",
    "np.random.set_state(state)\n",
    "np.random.shuffle( train_ske )"
   ]
  },
  {
   "cell_type": "code",
   "execution_count": 7,
   "metadata": {},
   "outputs": [],
   "source": [
    "#imports for model\n",
    "import os\n",
    "import time\n",
    "#import tensorflow as tf\n",
    "import matplotlib.pyplot as plt\n",
    "import numpy as np\n",
    "import torch\n",
    "import torch.nn.functional as F\n",
    "import torch.nn as nn\n",
    "\n",
    "\n",
    "#basic convolutional block\n",
    "def conv3x3(in_channels, out_channels, stride=1):\n",
    "    return nn.Conv3d(in_channels, out_channels, kernel_size=3, \n",
    "                     stride=stride, padding=1, bias=False)\n",
    "\n",
    "#basic residual block\n",
    "class ResidualBlock(nn.Module):\n",
    "    def __init__(self, in_channels, out_channels, stride=1, downsample=None):\n",
    "        super(ResidualBlock, self).__init__()\n",
    "        self.conv1 = conv3x3(in_channels, out_channels, stride)\n",
    "        self.bn1 = nn.BatchNorm3d(out_channels)\n",
    "        self.relu = nn.ReLU(inplace=True)\n",
    "        self.conv2 = conv3x3(out_channels, out_channels)\n",
    "        self.bn2 = nn.BatchNorm3d(out_channels)\n",
    "        self.downsample = downsample\n",
    "        \n",
    "    def forward(self, x):\n",
    "        residual = x\n",
    "        out = self.conv1(x)\n",
    "        out = self.bn1(out)\n",
    "        out = self.relu(out)\n",
    "        out = self.conv2(out)\n",
    "        out = self.bn2(out)\n",
    "        if self.downsample:\n",
    "            residual = self.downsample(x)\n",
    "        out += residual\n",
    "        out = self.relu(out)\n",
    "        return out\n",
    "    \n",
    "\n",
    "#The HYPHY network!\n",
    "def get_residual_network() -> torch.nn.Module:\n",
    "    layers= [2, 2, 2]\n",
    "    class ResNet(torch.nn.Module):\n",
    "        def __init__(self, block, layers = layers, num_classes=1):\n",
    "            super(ResNet, self).__init__()\n",
    "            self.in_channels = 16\n",
    "            self.conv = conv3x3(4, 16)\n",
    "            self.bn = torch.nn.BatchNorm3d(16)\n",
    "            self.relu = torch.nn.ReLU(inplace=True)\n",
    "            self.layer1 = self.make_layer(block, 16, layers[0])\n",
    "            self.layer2 = self.make_layer(block, 32, layers[1], 2)\n",
    "            #self.layer3 = self.make_layer(block, 64, layers[2], 2)\n",
    "            self.avg_pool = nn.AvgPool3d(4)\n",
    "            self.fc = nn.Linear(64, 15)\n",
    "            self.drop_layer = nn.Dropout(p=0.1)\n",
    "            self.fc2 = nn.Linear(15, 5)\n",
    "            self.fc3 = nn.Linear(5, 1)\n",
    "            self.fc_dense = nn.Linear(9**3, 1)\n",
    "\n",
    "        def make_layer(self, block, out_channels, blocks, stride=1):\n",
    "            downsample = None\n",
    "            if (stride != 1) or (self.in_channels != out_channels):\n",
    "                downsample = torch.nn.Sequential(\n",
    "                    conv3x3(self.in_channels, out_channels, stride=stride),\n",
    "                    torch.nn.BatchNorm3d(out_channels))\n",
    "            layers = []\n",
    "            layers.append(block(self.in_channels, out_channels, stride, downsample))\n",
    "            self.in_channels = out_channels\n",
    "            for i in range(1, blocks):\n",
    "                layers.append(block(out_channels, out_channels))\n",
    "            return nn.Sequential(*layers)\n",
    "\n",
    "        def forward(self, x):\n",
    "            if True:\n",
    "                #x = x.unsqueeze(1)\n",
    "                out = self.conv(x)\n",
    "                #print(torch.typename(out))\n",
    "                out = self.bn(out)\n",
    "                out = self.relu(out)\n",
    "                out = self.layer1(out) #residual layer 1\n",
    "                out = self.drop_layer(out)\n",
    "                out = self.layer2(out) #residual layer 2\n",
    "                out = self.avg_pool(out)\n",
    "                out = out.view(out.size(0), -1)\n",
    "                out = self.fc(out)\n",
    "                out = self.drop_layer(out)\n",
    "                out = self.fc2(out)\n",
    "                out = self.drop_layer(out)\n",
    "                out = self.fc3(out)\n",
    "            else:\n",
    "                out = x.view(x.size(0), -1)\n",
    "                out = self.fc_dense(out)\n",
    "            \n",
    "          #  out = self.drop_layer(out)\n",
    "           # out = self.log_std(out)\n",
    "\n",
    "            return out.squeeze(0)\n",
    "    return ResNet(ResidualBlock,layers=[2,2,2])\n",
    "\n"
   ]
  },
  {
   "cell_type": "code",
   "execution_count": 9,
   "metadata": {},
   "outputs": [
    {
     "name": "stdout",
     "output_type": "stream",
     "text": [
      "Using device: cuda:1\n"
     ]
    }
   ],
   "source": [
    "#using GPU, comment out if on CPU\n",
    "#os.environ['CUDA_DEVICE_ORDER'] = 'PCI_BUS_ID'\n",
    "#os.environ['CUDA_VISIBLE_DEVICES'] = '0'\n",
    "\n",
    "\n",
    "device = torch.device(\"cuda:1\" if torch.cuda.is_available() else \"cpu\")\n",
    "print('Using device:', device)"
   ]
  },
  {
   "cell_type": "code",
   "execution_count": 10,
   "metadata": {},
   "outputs": [],
   "source": [
    "train_size = np.array([9, 9, 17]) # x, y, z respctively\n",
    "batch_size = 40\n",
    "if DM_general.shape[1]<train_size.min():\n",
    "    raise ValueError('DarkMatter cube size', DM_general.shape, 'is too small for train size', train_size, '.')\n",
    "if ~(train_size%2).all():\n",
    "    raise ValueError('train size scannot be even.')"
   ]
  },
  {
   "cell_type": "code",
   "execution_count": 11,
   "metadata": {},
   "outputs": [],
   "source": [
    "# flatten the optical depth data in batches\n",
    "from more_itertools import chunked\n",
    "ske_len    = train_ske.shape[1]\n",
    "train_ske  = train_ske.flatten()\n",
    "train_ske  = torch.FloatTensor( list(chunked( train_ske, batch_size )) )"
   ]
  },
  {
   "cell_type": "code",
   "execution_count": 12,
   "metadata": {},
   "outputs": [],
   "source": [
    "from torch.utils.data import DataLoader, TensorDataset\n",
    "\n",
    "# Hyper-parameters\n",
    "num_epochs = 10\n",
    "learning_rate = 0.0001\n",
    "\n",
    "model = get_residual_network().float().to(device)\n",
    "model.load_state_dict(torch.load('HyPhy_090819b'))\n",
    "\n",
    "\n",
    "# Loss and optimizer\n",
    "criterion = nn.MSELoss()\n",
    "optimizer = torch.optim.Adam(model.parameters(), lr=learning_rate)\n",
    "\n",
    "# For updating learning rate\n",
    "def update_lr(optimizer, lr):    \n",
    "    for param_group in optimizer.param_groups:\n",
    "        param_group['lr'] = lr\n",
    "\n",
    "# Train the model\n",
    "#total_step = 5000#len(train_loader)\n",
    "curr_lr = learning_rate\n",
    "start_time = time.time()\n",
    "\n",
    "#train_dataset = TensorDataset(torch.DoubleTensor(train), torch.DoubleTensor(train_y))\n",
    "#params = {'batch_size': 50}\n",
    "#trainloader = DataLoader(train_dataset, **params)\n",
    "\n",
    "#DM.to(device); DM_vx.to(device); DM_vy.to(device); DM_vz.to(device)"
   ]
  },
  {
   "cell_type": "code",
   "execution_count": 13,
   "metadata": {},
   "outputs": [],
   "source": [
    "DM_general = torch.tensor(DM_general).float()"
   ]
  },
  {
   "cell_type": "code",
   "execution_count": null,
   "metadata": {
    "scrolled": true
   },
   "outputs": [],
   "source": [
    "%%time\n",
    "for epoch in range(num_epochs):  # loop over the dataset multiple times\n",
    "\n",
    "    running_loss = 0.0\n",
    "    for i, train_data in enumerate(train_ske, 0):\n",
    "        # get the inputs; data each batch of train_ske\n",
    "        targets = train_data.reshape((batch_size,1)).to(device)\n",
    "        # x,y,z are the central coordinates of each training DM cube\n",
    "        x = (train_block[np.floor((i*batch_size+np.arange(batch_size))/ske_len).astype('int'), 0]-DM_reso/2)/DM_reso\n",
    "        y = (train_block[np.floor((i*batch_size+np.arange(batch_size))/ske_len).astype('int'), 1]-DM_reso/2)/DM_reso\n",
    "        z = np.linspace(start=0, stop=ske_len-1, num=ske_len)[(i*batch_size+np.arange(batch_size))%ske_len] # z from 0 or to 0?\n",
    "        batch_grids = make_batch_grids(x, y, z, batch_size, train_size, DM_general.shape[1])\n",
    "        inputs = DM_general[batch_grids].to(device)\n",
    "        \n",
    "        # zero the parameter gradients\n",
    "        optimizer.zero_grad()\n",
    "\n",
    "        # forward + backward + optimize\n",
    "        outputs = model(inputs)\n",
    "        loss = criterion(outputs, targets)\n",
    "        loss.backward()\n",
    "        optimizer.step()\n",
    "        \n",
    "        if (i+1) % 100 == 0:\n",
    "            print(float(outputs[0,0]),float(train_data[0]))\n",
    "\n",
    "            print (\"Epoch [{}/{}], Step [{}/{}] Loss: {:.4f},Time: {:.4f}\"\n",
    "                   .format(epoch+1, num_epochs, i+1, train_ske.shape[0], loss.item(),time.time()-start_time))\n",
    "        if (i+1) % 10000 ==0: #train_ske.shape[0]\n",
    "            print (\"SAVING MODEL!\")\n",
    "            torch.save(model.state_dict(), \"./params_Ben_1-e^-tau_x9y9z17_Huber_temp\")\n",
    "\n",
    "    # Decay learning rate\n",
    "    if (epoch+1) % 20 == 0:\n",
    "        curr_lr /= 3\n",
    "        update_lr(optimizer, curr_lr)"
   ]
  },
  {
   "cell_type": "code",
   "execution_count": null,
   "metadata": {},
   "outputs": [],
   "source": [
    "torch.save(model.state_dict(), 'params_Ben_1-e^-tau_x9y9z17_Huber.pkl')"
   ]
  },
  {
   "cell_type": "code",
   "execution_count": null,
   "metadata": {},
   "outputs": [],
   "source": [
    "os.system('rm params_Ben_1-e^-tau_x9y9z17_Huber_temp')"
   ]
  },
  {
   "cell_type": "code",
   "execution_count": 14,
   "metadata": {},
   "outputs": [],
   "source": [
    "test_len = 100  # how many skewers do you want to predict/check on the not trained set?\n",
    "test_index = list(np.random.randint(low=0, high=xtrain_len-1, size=test_len, dtype='int'))\n",
    "test_block = block[~boolean_seperate][test_index]\n",
    "test_ske   = ske[~boolean_seperate][test_index]\n",
    "test_outp  = np.zeros(test_ske.shape).flatten()\n",
    "test_batch = 25\n",
    "#test_ske = list(chunked(test_ske.flatten(), test_batch))\n",
    "for i in range(int(test_ske.size/test_batch)):\n",
    "    x = (test_block[np.floor((i*test_batch+np.arange(test_batch))/ske_len).astype('int'), 0]/DM_reso)-1\n",
    "    y = (test_block[np.floor((i*test_batch+np.arange(test_batch))/ske_len).astype('int'), 1]/DM_reso)-1\n",
    "    z = np.linspace(start=0, stop=ske_len-1, num=ske_len)[(i*test_batch+np.arange(test_batch))%ske_len] # z from 0 or to 0?\n",
    "    batch_grids = make_batch_grids(x, y, z, test_batch, train_size, DM_general.shape[1])\n",
    "    inputs = DM_general[batch_grids].to(device)\n",
    "    \n",
    "    test_outp[i*test_batch:(i+1)*test_batch] = model(inputs).detach().cpu().numpy().flatten()\n",
    "    \n",
    "    del x, y, z, batch_grids, inputs\n",
    "test_outp = test_outp.reshape(test_len,ske_len)"
   ]
  },
  {
   "cell_type": "code",
   "execution_count": null,
   "metadata": {},
   "outputs": [
    {
     "data": {
      "text/plain": [
       "<matplotlib.legend.Legend at 0x7fd6b1b748d0>"
      ]
     },
     "execution_count": 21,
     "metadata": {},
     "output_type": "execute_result"
    },
    {
     "data": {
      "image/png": "[encoded data removed]",
      "text/plain": [
       "<Figure size 864x288 with 1 Axes>"
      ]
     },
     "metadata": {
      "needs_background": "light"
     },
     "output_type": "display_data"
    }
   ],
   "source": [
    "ii = np.random.randint(low=0, high=test_len-1, size=1)[0].astype('int')\n",
    "plt.figure(figsize=(12,4))\n",
    "plt.plot( -np.log(1-test_outp[ii]), label='Predicted' )\n",
    "plt.plot( -np.log(1-test_ske[ii]), label='Real', alpha=0.5 )\n",
    "plt.plot( DM_general[0, int(test_block[ii,0]/DM_reso), int(test_block[ii,1]/DM_reso), :].numpy(), label='DM', alpha=0.3 )\n",
    "plt.ylabel(r'$\\tau$', fontsize=18)\n",
    "plt.ylim([0,5])\n",
    "#plt.yscale('log')\n",
    "plt.legend(fontsize=18, bbox_to_anchor=(1.26,0.75))\n",
    "\n",
    "plt.figure(figsize=(12,4))\n",
    "plt.plot( (1-test_outp[ii]), label='Predicted', alpha=0.7 )\n",
    "plt.plot( (1-test_ske[ii]), label='Real', alpha=0.5 )\n",
    "#plt.plot( DM_general[0, int(test_block[ii,0]/DM_reso), int(test_block[ii,1]/DM_reso), :].numpy(), label='DM', alpha=0.3 )\n",
    "plt.ylabel(r'$F = \\mathrm{e}^{-\\tau}$', fontsize=18)\n",
    "plt.ylim([-0.1, 1.1])\n",
    "#plt.yscale('log')\n",
    "plt.legend(fontsize=18, bbox_to_anchor=(1.26,0.75))"
   ]
  }
 ],
 "metadata": {
  "kernelspec": {
   "display_name": "Python 3",
   "language": "python",
   "name": "python3"
  },
  "language_info": {
   "codemirror_mode": {
    "name": "ipython",
    "version": 3
   },
   "file_extension": ".py",
   "mimetype": "text/x-python",
   "name": "python",
   "nbconvert_exporter": "python",
   "pygments_lexer": "ipython3",
   "version": "3.7.3"
  }
 },
 "nbformat": 4,
 "nbformat_minor": 2
}
