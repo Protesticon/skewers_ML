{
 "cells": [
  {
   "cell_type": "code",
   "execution_count": 1,
   "metadata": {},
   "outputs": [],
   "source": [
    "from pathlib import Path\n",
    "import os\n",
    "import time\n",
    "import numpy as np\n",
    "import torch\n",
    "\n",
    "import warnings\n",
    "warnings.filterwarnings('ignore')\n",
    "\n",
    "from data_loader import *\n",
    "from model import *\n",
    "from test import *\n",
    "\n",
    "\n",
    "# pre-process\n",
    "def pre_proc(tau, block):\n",
    "    '''log(tau)'''\n",
    "    tau   = np.array(tau)\n",
    "    block = np.array(block)\n",
    "    tau   = np.log(tau)\n",
    "    return (tau, block)\n",
    "\n",
    "def toF_proc(tau):\n",
    "    '''transfer data derived from pre_proc to F=exp(-tau)'''\n",
    "    tau = np.array(tau)\n",
    "    tau = np.exp(-np.exp(tau))\n",
    "    return tau\n",
    "\n",
    "\n",
    "# Path and data file name\n",
    "folder  = Path.cwd().parent / 'Illustris3'\n",
    "DM_name = ['DMdelta_Illustris3_L75_N600_v2.fits', \n",
    "            'vx_cic_Illustris3_L75_N600_v2.fits',\n",
    "            'vy_cic_Illustris3_L75_N600_v2.fits',\n",
    "            'vz_cic_Illustris3_L75_N600_v2.fits']\n",
    "ske_name = 'spectra_Illustris3_N600_zaxis.npy'\n",
    "\n",
    "\n",
    "\n",
    "# hyper parameters\n",
    "train_insize = np.array([15, 15, 71]) # x, y, z respctively\n",
    "train_ousize = np.array([5, 5, 5]) # x, y, z respctively\n",
    "test_batch = 50\n",
    "localtime_n = ['2019-11-15 04:39:02']"
   ]
  },
  {
   "cell_type": "code",
   "execution_count": 7,
   "metadata": {},
   "outputs": [
    {
     "data": {
      "text/plain": [
       "1.6989700043360187"
      ]
     },
     "execution_count": 7,
     "metadata": {},
     "output_type": "execute_result"
    }
   ],
   "source": [
    "np.log10(50)"
   ]
  },
  {
   "cell_type": "code",
   "execution_count": 11,
   "metadata": {},
   "outputs": [
    {
     "name": "stdout",
     "output_type": "stream",
     "text": [
      "4,  5, 6\n"
     ]
    }
   ],
   "source": [
    "print('{}, {:{:d}d}, {}'.format(4, 5,int(np.log10(50)+1), 6))"
   ]
  },
  {
   "cell_type": "code",
   "execution_count": 2,
   "metadata": {},
   "outputs": [],
   "source": [
    "skey = np.load(folder/'spectra_Illustris3_N600_yaxis.npy')"
   ]
  },
  {
   "cell_type": "code",
   "execution_count": 5,
   "metadata": {
    "scrolled": true
   },
   "outputs": [],
   "source": [
    "skey = skey.reshape(600,600,600)"
   ]
  },
  {
   "cell_type": "code",
   "execution_count": 3,
   "metadata": {},
   "outputs": [],
   "source": [
    "DM_general = load_DM(folder, DM_name)\n",
    "# basic paramters\n",
    "DM_param.pix  = len(DM_general[0])\n",
    "DM_param.len  = 75 # in Mpc/h\n",
    "DM_param.reso = DM_param.len / DM_param.pix # in Mpc/h"
   ]
  },
  {
   "cell_type": "code",
   "execution_count": 4,
   "metadata": {},
   "outputs": [],
   "source": [
    "DM_general = DM_general.transpose(0,3,1,2)"
   ]
  },
  {
   "cell_type": "code",
   "execution_count": 5,
   "metadata": {},
   "outputs": [],
   "source": [
    "DM_general = DM_general[[0,3,1,2]]"
   ]
  },
  {
   "cell_type": "code",
   "execution_count": 22,
   "metadata": {},
   "outputs": [
    {
     "data": {
      "text/plain": [
       "[<matplotlib.lines.Line2D at 0x7f5c594435c0>]"
      ]
     },
     "execution_count": 22,
     "metadata": {},
     "output_type": "execute_result"
    },
    {
     "data": {
      "image/png": "[encoded data removed]",
      "text/plain": [
       "<Figure size 432x288 with 1 Axes>"
      ]
     },
     "metadata": {
      "needs_background": "light"
     },
     "output_type": "display_data"
    }
   ],
   "source": [
    "ii = np.random.randint(0, 600)\n",
    "jj = np.random.randint(0, 600)\n",
    "plt.plot(DM_general[0, ii, jj])\n",
    "plt.plot(skey[ii, jj])"
   ]
  },
  {
   "cell_type": "code",
   "execution_count": 2,
   "metadata": {
    "scrolled": true
   },
   "outputs": [
    {
     "name": "stdout",
     "output_type": "stream",
     "text": [
      "Using device: cuda:0\n",
      "Loading dark matter...\n",
      "Loading skewers...\n",
      "Setting test set...\n",
      "Loading model...\n",
      "Begin testing...\n",
      "Step [100/480] Loss: 0.3417, Time: 21.7369\n",
      "Step [200/480] Loss: 0.1122, Time: 41.2840\n",
      "Step [300/480] Loss: 0.1183, Time: 60.2632\n",
      "Step [400/480] Loss: 0.1223, Time: 79.0301\n",
      "Test Summary: \n",
      "\tTest loss: 0.1644236497581005\n",
      "Restoring test skewers...\n",
      "Plotting example skewers...\n",
      "Plotting 1/50, x141y364.png...\n",
      "Plotting 2/50, x50y185.png...\n",
      "Plotting 3/50, x315y208.png...\n",
      "Plotting 4/50, x430y240.png...\n",
      "Plotting 5/50, x431y243.png...\n",
      "Plotting 6/50, x70y103.png...\n",
      "Plotting 7/50, x458y350.png...\n",
      "Plotting 8/50, x471y380.png...\n",
      "Plotting 9/50, x511y58.png...\n",
      "Plotting 10/50, x294y245.png...\n",
      "Plotting 11/50, x513y247.png...\n",
      "Plotting 12/50, x54y343.png...\n",
      "Plotting 13/50, x488y181.png...\n",
      "Plotting 14/50, x308y197.png...\n",
      "Plotting 15/50, x352y269.png...\n",
      "Plotting 16/50, x510y259.png...\n",
      "Plotting 17/50, x430y244.png...\n",
      "Plotting 18/50, x39y524.png...\n",
      "Plotting 19/50, x460y111.png...\n",
      "Plotting 20/50, x350y267.png...\n",
      "Plotting 21/50, x159y115.png...\n",
      "Plotting 22/50, x7y239.png...\n",
      "Plotting 23/50, x35y289.png...\n",
      "Plotting 24/50, x575y538.png...\n",
      "Plotting 25/50, x351y266.png...\n",
      "Plotting 26/50, x441y282.png...\n",
      "Plotting 27/50, x232y512.png...\n",
      "Plotting 28/50, x243y413.png...\n",
      "Plotting 29/50, x57y531.png...\n",
      "Plotting 30/50, x519y133.png...\n",
      "Plotting 31/50, x38y362.png...\n",
      "Plotting 32/50, x70y273.png...\n",
      "Plotting 33/50, x410y137.png...\n",
      "Plotting 34/50, x109y398.png...\n",
      "Plotting 35/50, x498y57.png...\n",
      "Plotting 36/50, x580y460.png...\n",
      "Plotting 37/50, x327y92.png...\n",
      "Plotting 38/50, x141y87.png...\n",
      "Plotting 39/50, x141y88.png...\n",
      "Plotting 40/50, x98y302.png...\n",
      "Plotting 41/50, x72y271.png...\n",
      "Plotting 42/50, x255y292.png...\n",
      "Plotting 43/50, x176y135.png...\n",
      "Plotting 44/50, x422y406.png...\n",
      "Plotting 45/50, x312y484.png...\n",
      "Plotting 46/50, x593y569.png...\n",
      "Plotting 47/50, x148y25.png...\n",
      "Plotting 48/50, x557y539.png...\n",
      "Plotting 49/50, x416y488.png...\n",
      "Plotting 50/50, x545y44.png...\n",
      "Measuring accuracy of left skewers...\n",
      "Finished test!\n"
     ]
    }
   ],
   "source": [
    "for localtime_i in localtime_n:\n",
    "    localtime = time.strptime(localtime_i, '%Y-%m-%d %H:%M:%S')\n",
    "\n",
    "    \n",
    "    \n",
    "    # device used to train the model\n",
    "    device = torch.device(\"cuda:0\" if torch.cuda.is_available() else \"cpu\")\n",
    "    print('Using device:', device)\n",
    "\n",
    "\n",
    "\n",
    "    # load dark matter data\n",
    "    print('Loading dark matter...')\n",
    "    DM_general = load_DM(folder, DM_name)\n",
    "    # basic paramters\n",
    "    DM_param.pix  = len(DM_general[0])\n",
    "    DM_param.len  = 75 # in Mpc/h\n",
    "    DM_param.reso = DM_param.len / DM_param.pix # in Mpc/h\n",
    "    # test\n",
    "    if DM_general.shape[1]<train_insize.min():\n",
    "        raise ValueError('DarkMatter cube size',\n",
    "            DM_general.shape, 'is too small for train size', train_insize, '.')\n",
    "    DM_general = torch.tensor(DM_general).float()\n",
    "\n",
    "\n",
    "    # load skewers\n",
    "    print('Loading skewers...')\n",
    "    ske, block = load_skewers(folder, ske_name, train_ousize, DM_param)\n",
    "    # basic parameters\n",
    "    ske_len = int(ske.shape[-1])\n",
    "\n",
    "\n",
    "    # divide the sample to training, validation set, and test set.\n",
    "    print('Setting test set...')\n",
    "    with open(\"id_seperate/id_seperate_%s.txt\"\\\n",
    "              %time.strftime(\"%Y-%m-%d_%H:%M:%S\", localtime), \"r\") as f:\n",
    "        aa = f.readlines()\n",
    "        id_seperate = np.array(list(aa[0][::3])).astype('int')\n",
    "        del aa\n",
    "    f.close()\n",
    "\n",
    "    test_ske, test_block = load_test(ske, block, id_seperate,\n",
    "                                     train_ousize, test_batch, pre_proc)\n",
    "    del id_seperate\n",
    "\n",
    "\n",
    "    # load model\n",
    "    print('Loading model...')\n",
    "    model = get_residual_network().float().to(device)\n",
    "    model.load_state_dict(torch.load('params/params_%s.pkl'\\\n",
    "            %time.strftime(\"%Y-%m-%d_%H:%M:%S\", localtime)))\n",
    "    #model.load_state_dict(torch.load('params/HyPhy_%s'\\\n",
    "    #        %time.strftime(\"%Y-%m-%d_%H:%M:%S\", localtime)))\n",
    "\n",
    "\n",
    "\n",
    "    # loss\n",
    "    criterion = nn.SmoothL1Loss()\n",
    "\n",
    "\n",
    "    # record starr time\n",
    "    start_time = time.time()\n",
    "\n",
    "\n",
    "    # start test\n",
    "    print('Begin testing...')\n",
    "    test_outp, test_losses = test(test_ske, test_block, DM_general, DM_param,\n",
    "                            test_batch, train_insize, model, criterion, device, start_time)\n",
    "\n",
    "    print(\"Test Summary: \")\n",
    "    print(\"\\tTest loss: {}\".format(test_losses))\n",
    "    \n",
    "    # restore test skewers\n",
    "    print('Restoring test skewers...')\n",
    "    nz = (ske_len/train_ousize[2]).astype('int')\n",
    "    test_ske = test_ske.numpy().reshape(-1, nz, train_ousize[0],\n",
    "                                train_ousize[1], train_ousize[2])\\\n",
    "                                .transpose(0, 2, 3, 1, 4).reshape(-1, ske_len)\n",
    "    test_outp = test_outp.reshape(-1, nz, train_ousize[0],\n",
    "                                train_ousize[1], train_ousize[2])\\\n",
    "                                .transpose(0, 2, 3, 1, 4).reshape(-1, ske_len)\n",
    "    test_coord = test_block.reshape(-1, nz, 3)[:, 0, 0:2].T.reshape(2, 1, 1, -1)\n",
    "    xcoor = np.arange(train_ousize[0]) - np.arange(train_ousize[0]).mean()\n",
    "    ycoor = np.arange(train_ousize[1]) - np.arange(train_ousize[1]).mean()\n",
    "    mesh  = np.expand_dims(np.array(np.meshgrid(xcoor, ycoor)), -1)\n",
    "    test_block = (test_coord + mesh).transpose(3,2,1,0).reshape(-1, 2).astype(int)\n",
    "    test_ske  = toF_proc(test_ske)\n",
    "    test_outp = toF_proc(test_outp)\n",
    "\n",
    "\n",
    "    print('Plotting example skewers...')\n",
    "    # generate comparison images\n",
    "    folder_outp = Path.cwd()/'test_figs'/('%s'\\\n",
    "            %time.strftime(\"%Y-%m-%d_%H:%M:%S\", localtime))\n",
    "    if not os.path.exists(folder_outp):\n",
    "        os.makedirs(folder_outp)\n",
    "    \n",
    "    from scipy import constants as C\n",
    "    v_end  = 0.02514741843009228 * C.speed_of_light / 1e3\n",
    "    \n",
    "    nrange = min(len(test_ske), 50)\n",
    "    test_sp = np.arange(len(test_ske))\n",
    "    np.random.seed(99)\n",
    "    np.random.shuffle(test_sp)\n",
    "    test_sp1 = test_sp[:int(nrange)].astype('int')\n",
    "    test_sp2 = test_sp[int(nrange):].astype('int')\n",
    "    \n",
    "    accuracy = AverageMeter()\n",
    "    rela_err = AverageMeter()\n",
    "    accu_arr = np.zeros(len(test_ske))\n",
    "    erro_arr = np.zeros(len(test_ske))\n",
    "    \n",
    "\n",
    "    # loop\n",
    "    for i, ii in enumerate(test_sp1):\n",
    "        print('Plotting {}/{}, x{}y{}.png...'\\\n",
    "                .format((i+1), nrange, test_block[ii,0], test_block[ii,1]))\n",
    "\n",
    "        test_block_i = test_block[ii]\n",
    "        test_outp_i = test_outp[ii]\n",
    "        test_ske_i = test_ske[ii]\n",
    "        test_DM_i = DM_general[0, test_block_i[0], test_block_i[1], :].numpy()\n",
    "\n",
    "        accuracy_i, rela_err_i = test_plot(test_block_i, test_outp_i, test_ske_i, test_DM_i,\n",
    "                                         v_end, folder_outp)\n",
    "        accuracy.update(accuracy_i, 1)\n",
    "        rela_err.update(rela_err_i, 1)\n",
    "        accu_arr[ii] = accuracy_i\n",
    "        erro_arr[ii] = rela_err_i\n",
    "    \n",
    "    print('Measuring accuracy of left skewers...')\n",
    "    for i, ii in enumerate(test_sp2):\n",
    "        \n",
    "        test_block_i = test_block[ii]\n",
    "        test_outp_i = test_outp[ii]\n",
    "        test_ske_i = test_ske[ii]\n",
    "        test_DM_i = DM_general[0, test_block_i[0], test_block_i[1], :].numpy()\n",
    "        \n",
    "        accuracy_i, rela_err_i = test_accuracy(test_block_i, test_outp_i, test_ske_i,\n",
    "                                         v_end, folder_outp)\n",
    "        accuracy.update(accuracy_i, 1)\n",
    "        rela_err.update(rela_err_i, 1)\n",
    "        accu_arr[ii] = accuracy_i\n",
    "        erro_arr[ii] = rela_err_i\n",
    "        \n",
    "        \n",
    "    fig, axes = plt.subplots(2,2,figsize=(12,9))\n",
    "    axes[0,0].scatter(np.arange(len(test_ske)), accu_arr, alpha=0.5, color='grey')\n",
    "    axes[0,0].hlines(y=accu_arr.mean(), xmin=0, xmax=len(test_ske), linestyle='--')\n",
    "    axes[0,0].set_xticks([])\n",
    "    axes[0,0].set_ylim([-0.1, 1.7])\n",
    "    axes[0,0].set_ylabel('accuracy $m$', fontsize=18)\n",
    "\n",
    "    axes[0,1].hist(accu_arr, bins=np.arange(0, 1.7, 0.1), color='grey');\n",
    "    axes[0,1].set_ylim(axes[0,1].get_ylim())\n",
    "    p1 = axes[0,1].vlines(x=accu_arr.mean(), ymin=0, ymax=9999, linestyle='--')\n",
    "    axes[0,1].set_xlabel('accuracy $m$', fontsize=18)\n",
    "    axes[0,1].set_ylabel('pdf of $m$', fontsize=18)\n",
    "    customs = [p1]\n",
    "    axes[0,1].legend(customs, ['average $m=%.4f$'%accu_arr.mean()], fontsize=14, loc=1)\n",
    "\n",
    "    axes[1,0].scatter(np.arange(len(test_ske)), erro_arr, alpha=0.5, color='grey')\n",
    "    axes[1,0].hlines(y=erro_arr.mean(), xmin=0, xmax=len(test_ske), linestyle='--')\n",
    "    axes[1,0].set_xticks([])\n",
    "    axes[1,0].set_ylim([-0.1, 1.7])\n",
    "    axes[1,0].set_ylabel('error $s$', fontsize=18)\n",
    "\n",
    "    axes[1,1].hist(erro_arr, bins=np.arange(0, 1.7, 0.1), color='grey');\n",
    "    axes[1,1].set_ylim(axes[0,1].get_ylim())\n",
    "    p2 = axes[1,1].vlines(x=erro_arr.mean(), ymin=0, ymax=9999, linestyle='--')\n",
    "    axes[1,1].set_xlabel('accuracy $s$', fontsize=18)\n",
    "    axes[1,1].set_ylabel('pdf of $s$', fontsize=18)\n",
    "    customs = [p2]\n",
    "    axes[1,1].legend(customs, ['average $s=%.4f$'%erro_arr.mean()], fontsize=14, loc=1)\n",
    "\n",
    "    plt.savefig(folder_outp / ('average.png'), dpi=300, bbox_inches='tight') \n",
    "    plt.close()\n",
    "    \n",
    "print('Finished test!')"
   ]
  },
  {
   "cell_type": "code",
   "execution_count": 16,
   "metadata": {},
   "outputs": [
    {
     "data": {
      "text/plain": [
       "[<matplotlib.lines.Line2D at 0x7f0b00350ba8>]"
      ]
     },
     "execution_count": 16,
     "metadata": {},
     "output_type": "execute_result"
    },
    {
     "data": {
      "image/png": "[encoded data removed]",
      "text/plain": [
       "<Figure size 432x288 with 1 Axes>"
      ]
     },
     "metadata": {
      "needs_background": "light"
     },
     "output_type": "display_data"
    }
   ],
   "source": [
    "plt.plot(np.arange(600)/600*v_end, DM_general[0, 54, 343, :].numpy())"
   ]
  },
  {
   "cell_type": "code",
   "execution_count": 17,
   "metadata": {},
   "outputs": [
    {
     "data": {
      "text/plain": [
       "[<matplotlib.lines.Line2D at 0x7f0b0031b898>]"
      ]
     },
     "execution_count": 17,
     "metadata": {},
     "output_type": "execute_result"
    },
    {
     "data": {
      "image/png": "[encoded data removed]",
      "text/plain": [
       "<Figure size 432x288 with 1 Axes>"
      ]
     },
     "metadata": {
      "needs_background": "light"
     },
     "output_type": "display_data"
    }
   ],
   "source": [
    "plt.plot(np.arange(600)/600*v_end, DM_general[3, 54, 343, :].numpy())"
   ]
  },
  {
   "cell_type": "code",
   "execution_count": 6,
   "metadata": {},
   "outputs": [
    {
     "data": {
      "image/png": "[encoded data removed]",
      "text/plain": [
       "<Figure size 432x288 with 1 Axes>"
      ]
     },
     "metadata": {
      "needs_background": "light"
     },
     "output_type": "display_data"
    }
   ],
   "source": [
    "data = plt.hist(accu_arr, bins=np.arange(0, 1.61, 0.01), color='grey')"
   ]
  },
  {
   "cell_type": "code",
   "execution_count": 5,
   "metadata": {},
   "outputs": [
    {
     "data": {
      "text/plain": [
       "(array([   0.,    7.,  315., 1143., 1286.,  798.,  430.,  246.,  145.,\n",
       "         126.,   73.,   72.,   33.,   39.,   21.,   21.,   18.,   15.,\n",
       "          16.,   10.,   13.,   11.,    7.,   11.,    6.,    5.,    3.,\n",
       "           4.,    9.,    6.,    2.,    3.]),\n",
       " array([0.  , 0.05, 0.1 , 0.15, 0.2 , 0.25, 0.3 , 0.35, 0.4 , 0.45, 0.5 ,\n",
       "        0.55, 0.6 , 0.65, 0.7 , 0.75, 0.8 , 0.85, 0.9 , 0.95, 1.  , 1.05,\n",
       "        1.1 , 1.15, 1.2 , 1.25, 1.3 , 1.35, 1.4 , 1.45, 1.5 , 1.55, 1.6 ]))"
      ]
     },
     "execution_count": 5,
     "metadata": {},
     "output_type": "execute_result"
    }
   ],
   "source": [
    "data[0], data[1]"
   ]
  },
  {
   "cell_type": "code",
   "execution_count": null,
   "metadata": {},
   "outputs": [],
   "source": []
  },
  {
   "cell_type": "code",
   "execution_count": 13,
   "metadata": {},
   "outputs": [],
   "source": [
    "alpha = accu_arr.mean()**2 / accu_arr.std(ddof=1)**2\n",
    "beta  = accu_arr.mean() / accu_arr.std(ddof=1)**2"
   ]
  },
  {
   "cell_type": "code",
   "execution_count": 23,
   "metadata": {},
   "outputs": [
    {
     "data": {
      "text/plain": [
       "5.813074550818238"
      ]
     },
     "execution_count": 23,
     "metadata": {},
     "output_type": "execute_result"
    }
   ],
   "source": [
    "accu_arr.std()"
   ]
  },
  {
   "cell_type": "code",
   "execution_count": 59,
   "metadata": {},
   "outputs": [
    {
     "data": {
      "text/plain": [
       "array([6.20860953e-21, 4.89115581e-63, 8.62192430e-37, ...,\n",
       "       1.09286685e-32, 1.17480909e-16, 3.01505719e-64])"
      ]
     },
     "execution_count": 59,
     "metadata": {},
     "output_type": "execute_result"
    }
   ],
   "source": [
    "np.random.gamma(alpha, 1/beta, size=len(test_ske))"
   ]
  },
  {
   "cell_type": "code",
   "execution_count": null,
   "metadata": {},
   "outputs": [],
   "source": []
  }
 ],
 "metadata": {
  "kernelspec": {
   "display_name": "Python 3",
   "language": "python",
   "name": "python3"
  },
  "language_info": {
   "codemirror_mode": {
    "name": "ipython",
    "version": 3
   },
   "file_extension": ".py",
   "mimetype": "text/x-python",
   "name": "python",
   "nbconvert_exporter": "python",
   "pygments_lexer": "ipython3",
   "version": "3.7.3"
  }
 },
 "nbformat": 4,
 "nbformat_minor": 2
}
